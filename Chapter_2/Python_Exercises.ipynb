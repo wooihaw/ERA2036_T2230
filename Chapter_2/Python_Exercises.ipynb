{
 "cells": [
  {
   "cell_type": "markdown",
   "id": "b47c5f95",
   "metadata": {},
   "source": [
    "### Exercise 1\n",
    "Write a program to solve a classic puzzle: There are 35 heads and 94 legs among the chickens and rabbits in a farm. How many rabbits and how many chickens do we have? Hint: Use for loop to iterate all possible solutions."
   ]
  },
  {
   "cell_type": "code",
   "execution_count": null,
   "id": "f574a811",
   "metadata": {},
   "outputs": [],
   "source": [
    "# c -> Number of chickens\n",
    "# r -> Number of rabbits\n",
    "\n"
   ]
  },
  {
   "cell_type": "markdown",
   "id": "158df725",
   "metadata": {},
   "source": [
    "### Exercise 2\n",
    "Write a program to track the growing amount of investment over time. An initial deposit, called the principal amount is made. Each year, the amount increased by a fixed percentage, called the annual rate of the return. For example, a principal amount of RM100 with an annual rate of return of 5% increases the ﬁrst year by RM5. The second year, the increase is 5% of the new amount RM105, which is RM5.25, and the new amount becomes RM110.25. The program prompts the user to enter an initial amount, an annual rate (percentage) of return, and a number of years. It then prints out the amount of investment, rounded to 2 decimal places at the end of each year for the specified number of years. A sample output from the program is shown below:  \n",
    "Initial investment: RM100, annual rate: 5%, years of investment: 4  \n",
    "Year 1: RM105.00  \n",
    "Year 2: RM110.25  \n",
    "Year 3: RM115.76  \n",
    "Year 4: RM121.55"
   ]
  },
  {
   "cell_type": "code",
   "execution_count": null,
   "id": "02cf9a4a",
   "metadata": {},
   "outputs": [],
   "source": [
    "\n"
   ]
  }
 ],
 "metadata": {
  "kernelspec": {
   "display_name": "Python 3 (ipykernel)",
   "language": "python",
   "name": "python3"
  },
  "language_info": {
   "codemirror_mode": {
    "name": "ipython",
    "version": 3
   },
   "file_extension": ".py",
   "mimetype": "text/x-python",
   "name": "python",
   "nbconvert_exporter": "python",
   "pygments_lexer": "ipython3",
   "version": "3.11.3"
  }
 },
 "nbformat": 4,
 "nbformat_minor": 5
}
