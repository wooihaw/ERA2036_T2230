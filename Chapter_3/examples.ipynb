{
 "cells": [
  {
   "cell_type": "code",
   "execution_count": 6,
   "id": "b3c4323b",
   "metadata": {},
   "outputs": [
    {
     "name": "stdout",
     "output_type": "stream",
     "text": [
      "Best solution: [1, 1, 1, 0, 1, 0, 1, 1, 0, 1]\n",
      "Total value: 215\n",
      "Items included: ['abacus', 'box', 'candle', 'eggs', 'guitar', 'hat', 'jacket']\n"
     ]
    }
   ],
   "source": [
    "%run ga_knapsack.py"
   ]
  },
  {
   "cell_type": "code",
   "execution_count": 8,
   "id": "b0e4e1a1",
   "metadata": {},
   "outputs": [
    {
     "name": "stdout",
     "output_type": "stream",
     "text": [
      "The global best position is [1.0000014974414242, 2.999998653341983], with a score of 4.146761177320408e-12.\n"
     ]
    }
   ],
   "source": [
    "%run pso_drone.py"
   ]
  },
  {
   "cell_type": "code",
   "execution_count": null,
   "id": "88f9c53e",
   "metadata": {},
   "outputs": [],
   "source": []
  }
 ],
 "metadata": {
  "kernelspec": {
   "display_name": "Python 3 (ipykernel)",
   "language": "python",
   "name": "python3"
  },
  "language_info": {
   "codemirror_mode": {
    "name": "ipython",
    "version": 3
   },
   "file_extension": ".py",
   "mimetype": "text/x-python",
   "name": "python",
   "nbconvert_exporter": "python",
   "pygments_lexer": "ipython3",
   "version": "3.10.11"
  }
 },
 "nbformat": 4,
 "nbformat_minor": 5
}
