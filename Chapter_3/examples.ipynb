{
 "cells": [
  {
   "cell_type": "code",
   "execution_count": 1,
   "id": "b3c4323b",
   "metadata": {},
   "outputs": [
    {
     "name": "stdout",
     "output_type": "stream",
     "text": [
      "Best solution: [1, 1, 1, 1, 0, 0, 0, 1, 1, 1]\n",
      "Total value: 220\n",
      "Items included: ['abacus', 'box', 'candle', 'doll', 'hat', 'ice cream', 'jacket']\n"
     ]
    }
   ],
   "source": [
    "%run ga_knapsack.py"
   ]
  },
  {
   "cell_type": "code",
   "execution_count": 2,
   "id": "b0e4e1a1",
   "metadata": {},
   "outputs": [
    {
     "name": "stdout",
     "output_type": "stream",
     "text": [
      "The global best position is [1.0113507739373016, 2.9858698483426505], with a score of 0.0003594010168782039.\n"
     ]
    }
   ],
   "source": [
    "%run pso_drone.py"
   ]
  },
  {
   "cell_type": "code",
   "execution_count": null,
   "id": "88f9c53e",
   "metadata": {},
   "outputs": [],
   "source": []
  }
 ],
 "metadata": {
  "kernelspec": {
   "display_name": "Python 3 (ipykernel)",
   "language": "python",
   "name": "python3"
  },
  "language_info": {
   "codemirror_mode": {
    "name": "ipython",
    "version": 3
   },
   "file_extension": ".py",
   "mimetype": "text/x-python",
   "name": "python",
   "nbconvert_exporter": "python",
   "pygments_lexer": "ipython3",
   "version": "3.10.11"
  }
 },
 "nbformat": 4,
 "nbformat_minor": 5
}
